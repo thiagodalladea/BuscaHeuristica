{
  "cells": [
    {
      "cell_type": "code",
      "execution_count": 340,
      "metadata": {},
      "outputs": [],
      "source": [
        "import pandas as pd\n",
        "from math import radians, sin, cos, sqrt, atan2"
      ]
    },
    {
      "cell_type": "markdown",
      "metadata": {},
      "source": [
        "#### Funções para o cálculo de distância entre uma estação e outra no DataFrame"
      ]
    },
    {
      "cell_type": "code",
      "execution_count": 341,
      "metadata": {},
      "outputs": [],
      "source": [
        "def haversine_distance(lat1, lon1, lat2, lon2):\n",
        "    R = 6371.0 * 1000\n",
        "\n",
        "    lat1 = radians(lat1)\n",
        "    lon1 = radians(lon1)\n",
        "    lat2 = radians(lat2)\n",
        "    lon2 = radians(lon2)\n",
        "\n",
        "    dlon = lon2 - lon1\n",
        "    dlat = lat2 - lat1\n",
        "\n",
        "    a = sin(dlat / 2) ** 2 + cos(lat1) * cos(lat2) * sin(dlon / 2) ** 2\n",
        "    c = 2 * atan2(sqrt(a), sqrt(1 - a))\n",
        "\n",
        "    distance = R * c\n",
        "    return round(distance, 2)\n",
        "\n",
        "\n",
        "def get_station_info(station_name, df):\n",
        "    station_rows = df[df[\"Station\"] == station_name]\n",
        "    if not station_rows.empty:\n",
        "        station_info = {\n",
        "            \"Latitude\": station_rows.iloc[0][\"Latitude\"],\n",
        "            \"Longitude\": station_rows.iloc[0][\"Longitude\"],\n",
        "            \"Lines\": set(station_rows[\"Line\"]),\n",
        "        }\n",
        "        return station_info\n",
        "    else:\n",
        "        return None\n",
        "\n",
        "\n",
        "def calculate_distance(row, df):\n",
        "    origin_info = get_station_info(row[\"Station\"], df)\n",
        "    dest_info = get_station_info(row[\"Destination\"], df)\n",
        "\n",
        "    if origin_info and dest_info:\n",
        "        if origin_info[\"Lines\"].intersection(dest_info[\"Lines\"]):\n",
        "            return haversine_distance(\n",
        "                origin_info[\"Latitude\"],\n",
        "                origin_info[\"Longitude\"],\n",
        "                dest_info[\"Latitude\"],\n",
        "                dest_info[\"Longitude\"],\n",
        "            )\n",
        "    return None"
      ]
    },
    {
      "cell_type": "markdown",
      "metadata": {},
      "source": [
        "#### Formatações do Dataframe"
      ]
    },
    {
      "cell_type": "code",
      "execution_count": 349,
      "metadata": {},
      "outputs": [
        {
          "data": {
            "text/html": [
              "<div>\n",
              "<style scoped>\n",
              "    .dataframe tbody tr th:only-of-type {\n",
              "        vertical-align: middle;\n",
              "    }\n",
              "\n",
              "    .dataframe tbody tr th {\n",
              "        vertical-align: top;\n",
              "    }\n",
              "\n",
              "    .dataframe thead th {\n",
              "        text-align: right;\n",
              "    }\n",
              "</style>\n",
              "<table border=\"1\" class=\"dataframe\">\n",
              "  <thead>\n",
              "    <tr style=\"text-align: right;\">\n",
              "      <th></th>\n",
              "      <th>Station</th>\n",
              "      <th>Destination</th>\n",
              "      <th>Distance</th>\n",
              "      <th>Line</th>\n",
              "      <th>Order of Points</th>\n",
              "      <th>Longitude</th>\n",
              "      <th>Latitude</th>\n",
              "    </tr>\n",
              "  </thead>\n",
              "  <tbody>\n",
              "  </tbody>\n",
              "</table>\n",
              "</div>"
            ],
            "text/plain": [
              "Empty DataFrame\n",
              "Columns: [Station, Destination, Distance, Line, Order of Points, Longitude, Latitude]\n",
              "Index: []"
            ]
          },
          "execution_count": 349,
          "metadata": {},
          "output_type": "execute_result"
        }
      ],
      "source": [
        "df = pd.read_csv(\"Metro_Madrid_2021.csv\")\n",
        "df = df.drop(\"Traffic\", axis=1)\n",
        "df[\"Longitude\"] = df[\"Longitude\"].str.replace(\",\", \".\").astype(float)\n",
        "df[\"Latitude\"] = df[\"Latitude\"].str.replace(\",\", \".\").astype(float)\n",
        "df.insert(1, \"Destination\", df[\"Station\"].shift(-1))\n",
        "df.insert(2, \"Distance\", df.apply(lambda row: calculate_distance(row, df), axis=1))\n",
        "df = df.dropna(subset=[\"Distance\"])\n",
        "df.drop(df.loc[df[\"Distance\"] > 5000].index, inplace=True)\n",
        "new_rows = df.copy()\n",
        "new_rows.rename(\n",
        "    columns={\"Station\": \"Destination\", \"Destination\": \"Station\"}, inplace=True\n",
        ")\n",
        "df = pd.concat([df, new_rows], ignore_index=True)"
      ]
    },
    {
      "cell_type": "markdown",
      "metadata": {},
      "source": [
        "#### Criação do grafo"
      ]
    },
    {
      "cell_type": "code",
      "execution_count": 350,
      "metadata": {},
      "outputs": [],
      "source": [
        "graph_df = df[[\"Station\", \"Destination\", \"Distance\"]]\n",
        "graph_df = graph_df.dropna()"
      ]
    },
    {
      "cell_type": "code",
      "execution_count": 351,
      "metadata": {},
      "outputs": [],
      "source": [
        "graph = {}\n",
        "#Colocando todos dos dados do DataFrame em um Dict\n",
        "for row in df.itertuples():\n",
        "    station = row.Station\n",
        "    destination = row.Destination\n",
        "    distance = row.Distance\n",
        "\n",
        "    if pd.isna(distance):\n",
        "        continue\n",
        "\n",
        "    if station not in graph:\n",
        "        graph[station] = []\n",
        "\n",
        "    graph[station].append((destination, distance))"
      ]
    },
    {
      "cell_type": "markdown",
      "metadata": {},
      "source": [
        "## Depth First Search (Busca Cega)"
      ]
    },
    {
      "cell_type": "code",
      "execution_count": 353,
      "metadata": {},
      "outputs": [],
      "source": [
        "def dfs(graph, station, destination, visited, path):\n",
        "    if visited == []:\n",
        "        visited = []\n",
        "    if path == []:\n",
        "        path = [station]\n",
        "\n",
        "    visited.append(station)\n",
        "\n",
        "    #Se o nó de destino já foi alcançado, o caminho é apenas ele\n",
        "    if station == destination:\n",
        "        return path\n",
        "\n",
        "    #Verificando os nós vizinhos\n",
        "    adjacents = [adjacent for adjacent, distance in graph.get(station, [])]\n",
        "    for adjacent in adjacents:\n",
        "        if adjacent not in visited:\n",
        "            new_path = dfs(graph, adjacent, destination, visited, path + [adjacent])\n",
        "            if new_path:  #Se um caminho válido foi encontrado, retorne-o\n",
        "                return new_path\n",
        "\n",
        "    return None  #Se nenhum caminho foi encontrado"
      ]
    },
    {
      "cell_type": "code",
      "execution_count": 354,
      "metadata": {},
      "outputs": [
        {
          "data": {
            "text/plain": [
              "['Bambú',\n",
              " 'Chamartín',\n",
              " 'Plaza de Castilla',\n",
              " 'Valdeacederas',\n",
              " 'Tetuán',\n",
              " 'Estrecho',\n",
              " 'Alvarado',\n",
              " 'Cuatro Caminos',\n",
              " 'Ríos Rosas',\n",
              " 'Iglesia',\n",
              " 'Bilbao',\n",
              " 'Tribunal',\n",
              " 'Gran Vía',\n",
              " 'Sol',\n",
              " 'Tirso de Molina',\n",
              " 'Antón Martín',\n",
              " 'Estación del Arte',\n",
              " 'Atocha',\n",
              " 'Menéndez Pelayo',\n",
              " 'Pacífico',\n",
              " 'Méndez Álvaro',\n",
              " 'Arganzuela-Planetario',\n",
              " 'Legazpi',\n",
              " 'Usera',\n",
              " 'Plaza Elíptica',\n",
              " 'Opañel',\n",
              " 'Oporto',\n",
              " 'Urgel',\n",
              " 'Marqués de Vadillo',\n",
              " 'Pirámides',\n",
              " 'Acacias',\n",
              " 'Puerta de Toledo',\n",
              " 'La Latina',\n",
              " 'Ópera',\n",
              " 'Santo Domingo',\n",
              " 'Noviciado',\n",
              " 'San Bernardo',\n",
              " 'Quevedo',\n",
              " 'Canal',\n",
              " 'Alonso Cano',\n",
              " 'Gregorio Marañón',\n",
              " 'Avenida de América',\n",
              " 'Prosperidad',\n",
              " 'Alfonso XIII',\n",
              " 'Avenida de la Paz',\n",
              " 'Arturo Soria',\n",
              " 'Esperanza',\n",
              " 'Canillas',\n",
              " 'Mar de Cristal',\n",
              " 'Pinar del Rey',\n",
              " 'Colombia',\n",
              " 'Nuevos Ministerios',\n",
              " 'Santiago Bernabéu']"
            ]
          },
          "execution_count": 354,
          "metadata": {},
          "output_type": "execute_result"
        }
      ],
      "source": [
        "start = \"Bambú\"\n",
        "end = \"Santiago Bernabéu\"\n",
        "dfs_result_dict = dfs(graph, start, end, [], [])\n",
        "dfs_result_dict"
      ]
    },
    {
      "cell_type": "code",
      "execution_count": null,
      "metadata": {},
      "outputs": [],
      "source": []
    }
  ],
  "metadata": {
    "colab": {
      "provenance": []
    },
    "kernelspec": {
      "display_name": "Python 3",
      "language": "python",
      "name": "python3"
    },
    "language_info": {
      "codemirror_mode": {
        "name": "ipython",
        "version": 3
      },
      "file_extension": ".py",
      "mimetype": "text/x-python",
      "name": "python",
      "nbconvert_exporter": "python",
      "pygments_lexer": "ipython3",
      "version": "3.11.7"
    }
  },
  "nbformat": 4,
  "nbformat_minor": 0
}
